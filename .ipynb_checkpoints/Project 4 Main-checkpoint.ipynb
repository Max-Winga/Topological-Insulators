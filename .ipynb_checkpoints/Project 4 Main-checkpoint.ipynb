{
 "cells": [
  {
   "cell_type": "markdown",
   "id": "7faa431a",
   "metadata": {
    "heading_collapsed": true
   },
   "source": [
    "# Imports"
   ]
  },
  {
   "cell_type": "code",
   "execution_count": 1,
   "id": "0d1d331d",
   "metadata": {
    "ExecuteTime": {
     "end_time": "2023-04-26T15:20:24.745935Z",
     "start_time": "2023-04-26T15:20:23.822319Z"
    },
    "hidden": true,
    "init_cell": true
   },
   "outputs": [],
   "source": [
    "import numpy as np\n",
    "import time as t\n",
    "import pickle\n",
    "import pylab as plt\n",
    "import cmath as cm"
   ]
  },
  {
   "cell_type": "markdown",
   "id": "0f3c2691",
   "metadata": {},
   "source": [
    "# Page 1"
   ]
  },
  {
   "cell_type": "markdown",
   "id": "02694e54",
   "metadata": {},
   "source": [
    "## Functions"
   ]
  },
  {
   "cell_type": "code",
   "execution_count": 95,
   "id": "8bd0c9f9",
   "metadata": {
    "ExecuteTime": {
     "end_time": "2023-04-26T16:19:29.808640Z",
     "start_time": "2023-04-26T16:19:29.789640Z"
    },
    "code_folding": [
     0,
     19,
     38,
     70,
     82,
     94,
     106,
     117,
     120
    ],
    "init_cell": true
   },
   "outputs": [],
   "source": [
    "def labels(n, atom_type):\n",
    "    to_return = []\n",
    "    if atom_type == 'h':\n",
    "        for i in range(n):\n",
    "            to_return = to_return + [(i, 'a')]\n",
    "        return to_return\n",
    "    elif atom_type == 'dh':\n",
    "        for i in range(n):\n",
    "            to_return = to_return + [(i, 'a'), (i, 'b')]\n",
    "        return to_return\n",
    "    elif atom_type == 'g':\n",
    "        to_return = []\n",
    "        for i in range(n[0]):\n",
    "            for j in range(n[1]):\n",
    "                to_return = to_return + [((i, j), 'a'), ((i, j), 'b')]\n",
    "        return to_return\n",
    "    else:\n",
    "        print(\"Incompatible Atom Type\")\n",
    "\n",
    "def momentum_labels(n, atom_type):\n",
    "    to_return = []\n",
    "    if atom_type == 'h':\n",
    "        for i in range(n):\n",
    "            to_return = to_return + [(i, 'a')]\n",
    "        return to_return\n",
    "    elif atom_type == 'dh':\n",
    "        for i in range(n):\n",
    "            to_return = to_return + [(i, 'a'), (i, 'b')]\n",
    "        return to_return\n",
    "    elif atom_type == 'g':\n",
    "        to_return = []\n",
    "        for i in range(n[0]):\n",
    "            for j in range(n[1]):\n",
    "                to_return = to_return + [((i, j), 'a'), ((i, j), 'b')]\n",
    "        return to_return\n",
    "    else:\n",
    "        print(\"Incompatible Atom Type\")\n",
    "        \n",
    "def label_to_r(label, atom_type, shape=None):\n",
    "    if atom_type == 'h':\n",
    "        return label[0]\n",
    "    elif atom_type == 'dh':\n",
    "        return 2*label[0] + 0.8*(label[1]=='b')\n",
    "    elif atom_type == 'g':\n",
    "        a1 = np.array([1, 0])\n",
    "        a2 = np.array([1/2, np.sqrt(3)/2])\n",
    "        return label[0][0]*a1 + label[0][1]*a2 + np.array([0, 1/np.sqrt(3)])*(label[1]=='b')\n",
    "    else:\n",
    "        print(\"Incompatible Atom Type\")\n",
    "\n",
    "def momentum_label_to_k(label, atom_type, shape=None):\n",
    "    if atom_type == 'h':\n",
    "        a1 = np.array([1])\n",
    "        b1 = (2*np.pi)/(shape*np.abs(a1))\n",
    "        return label[0]*b1\n",
    "    elif atom_type == 'dh':\n",
    "        a1 = np.array([2])\n",
    "        b1 = (2*np.pi)/(int(shape)/2*np.abs(a1))\n",
    "        return label[0]*b1\n",
    "    elif atom_type == 'g':\n",
    "        print(\"G NOT FIXED YET\")\n",
    "        if shape == None: print(\"Need Shape\"); return\n",
    "        n1, n2 = shape\n",
    "        m, n = label[0]\n",
    "        b1 = np.array([1, -1/np.sqrt(3)])*(2*np.pi)/n1\n",
    "        b2 = np.array([0, 2/np.sqrt(3)])*(2*np.pi)/n2\n",
    "        return m*b1 + n*b2\n",
    "    else:\n",
    "        print(\"Incompatible Atom Type\")\n",
    "        \n",
    "def label_to_index(label, atom_type, shape=None):\n",
    "    if atom_type == 'h':\n",
    "        return label[0]\n",
    "    elif atom_type == 'dh':\n",
    "        if label[1] == 'a':\n",
    "            return 2*label[0]\n",
    "        return 2*label[0] + 1\n",
    "    elif atom_type == 'g':\n",
    "        if shape == None: print(\"Need Shape\"); return\n",
    "        label_list = labels(shape, 'g')\n",
    "        return label_list.index(label)\n",
    "\n",
    "def momentum_label_to_index(label, atom_type):\n",
    "    if atom_type == 'h':\n",
    "        return label[0]\n",
    "    elif atom_type == 'dh':\n",
    "        if label[1] == 'a':\n",
    "            return 2*label[0]\n",
    "        return 2*label[0] + 1\n",
    "    elif atom_type == 'g':\n",
    "        if shape == None: print(\"Need Shape\"); return\n",
    "        label_list = momentum_labels(shape, 'g')\n",
    "        return label_list.index(label)\n",
    "    \n",
    "def index_to_label(i, atom_type, shape=None):\n",
    "    if atom_type == 'h':\n",
    "        return (i, 'a')\n",
    "    elif atom_type == 'dh':\n",
    "        if i % 2 == 0:\n",
    "            return (int(i/2), 'a')\n",
    "        return (int(i/2), 'b')\n",
    "    elif atom_type == 'g':\n",
    "        if shape == None: print(\"Need Shape\"); return\n",
    "        label_list = labels(shape, 'g')\n",
    "        return label_list[i]\n",
    "    \n",
    "def momentum_index_to_label(i, atom_type, shape=None):\n",
    "    if atom_type == 'h':\n",
    "        return (i, 'a')\n",
    "    elif atom_type == 'dh':\n",
    "        label_list = momentum_labels(int(shape/2), 'dh')\n",
    "        return label_list[i]\n",
    "    elif atom_type == 'g':\n",
    "        if shape == None: print(\"Need Shape\"); return\n",
    "        label_list = momentum_labels(shape, 'g')\n",
    "        return label_list[i]\n",
    "    \n",
    "def index_to_r(i, atom_type, shape=None):\n",
    "    return label_to_r(index_to_label(i, atom_type, shape), atom_type, shape)\n",
    "    \n",
    "def momentum_index_to_k(i, atom_type, shape=None):\n",
    "    return momentum_label_to_k(momentum_index_to_label(i, atom_type, shape), atom_type, shape)"
   ]
  },
  {
   "cell_type": "markdown",
   "id": "cf51cc22",
   "metadata": {},
   "source": [
    "## Testing"
   ]
  },
  {
   "cell_type": "markdown",
   "id": "66bda596",
   "metadata": {
    "heading_collapsed": true
   },
   "source": [
    "### Box 1"
   ]
  },
  {
   "cell_type": "code",
   "execution_count": 54,
   "id": "64f18891",
   "metadata": {
    "ExecuteTime": {
     "end_time": "2023-04-24T16:04:01.058742Z",
     "start_time": "2023-04-24T16:04:00.825746Z"
    },
    "hidden": true
   },
   "outputs": [
    {
     "data": {
      "image/png": "[encoded data removed]",
      "text/plain": [
       "<Figure size 640x480 with 2 Axes>"
      ]
     },
     "metadata": {},
     "output_type": "display_data"
    }
   ],
   "source": [
    "n = 10\n",
    "test_labels = labels(n, 'h')\n",
    "x_axis0 = [label_to_r(label, 'h') for label in test_labels]\n",
    "test_labels = labels(n, 'dh')\n",
    "x_axis1 = [label_to_r(label, 'dh') for label in test_labels]\n",
    "fig, axs = plt.subplots(2, 1)\n",
    "axs[0].scatter(x_axis0, np.ones(n))\n",
    "axs[0].set_title(\"Hydrogen\")\n",
    "axs[0].set_xticklabels([])\n",
    "axs[1].scatter(x_axis1, np.ones(2*n))\n",
    "axs[1].set_title(\"Distorted Hydrogen\")\n",
    "fig.tight_layout()\n",
    "plt.show()"
   ]
  },
  {
   "cell_type": "markdown",
   "id": "091fa3ee",
   "metadata": {
    "heading_collapsed": true
   },
   "source": [
    "### Graphene Testing"
   ]
  },
  {
   "cell_type": "code",
   "execution_count": 5,
   "id": "cb8a4840",
   "metadata": {
    "ExecuteTime": {
     "end_time": "2023-04-24T16:05:41.027687Z",
     "start_time": "2023-04-24T16:05:40.887663Z"
    },
    "hidden": true
   },
   "outputs": [
    {
     "data": {
      "image/png": "[encoded data removed]",
      "text/plain": [
       "<Figure size 640x480 with 1 Axes>"
      ]
     },
     "metadata": {},
     "output_type": "display_data"
    }
   ],
   "source": [
    "test_labels = labels((3, 5), 'g')\n",
    "points = [label_to_r(label, 'g') for label in test_labels]\n",
    "x_axis = [point[0] for point in points]\n",
    "y_axis = [point[1] for point in points]\n",
    "plt.figure()\n",
    "plt.scatter(x_axis, y_axis)\n",
    "plt.show()"
   ]
  },
  {
   "cell_type": "code",
   "execution_count": 43,
   "id": "3b1e661a",
   "metadata": {
    "ExecuteTime": {
     "end_time": "2023-04-17T16:04:50.244200Z",
     "start_time": "2023-04-17T16:04:50.228190Z"
    },
    "hidden": true
   },
   "outputs": [
    {
     "name": "stdout",
     "output_type": "stream",
     "text": [
      "[((0, 0), 'a'), ((0, 0), 'b'), ((0, 1), 'a'), ((0, 1), 'b'), ((0, 2), 'a'), ((0, 2), 'b'), ((0, 3), 'a'), ((0, 3), 'b'), ((1, 0), 'a'), ((1, 0), 'b'), ((1, 1), 'a'), ((1, 1), 'b'), ((1, 2), 'a'), ((1, 2), 'b'), ((1, 3), 'a'), ((1, 3), 'b'), ((2, 0), 'a'), ((2, 0), 'b'), ((2, 1), 'a'), ((2, 1), 'b'), ((2, 2), 'a'), ((2, 2), 'b'), ((2, 3), 'a'), ((2, 3), 'b')]\n",
      "Index of ((2, 3), 'a') = 22\n"
     ]
    }
   ],
   "source": [
    "shape = (3, 4)\n",
    "point = ((2, 3), 'a')\n",
    "print(labels(shape, 'g'))\n",
    "print(f\"Index of {point} = {label_to_index([point, shape], 'g')}\")"
   ]
  },
  {
   "cell_type": "code",
   "execution_count": 74,
   "id": "ae60a5f5",
   "metadata": {
    "ExecuteTime": {
     "end_time": "2023-04-17T16:34:17.928714Z",
     "start_time": "2023-04-17T16:34:17.776686Z"
    },
    "hidden": true
   },
   "outputs": [
    {
     "data": {
      "image/png": "[encoded data removed]",
      "text/plain": [
       "<Figure size 640x480 with 1 Axes>"
      ]
     },
     "metadata": {},
     "output_type": "display_data"
    }
   ],
   "source": [
    "shape = (10, 15)\n",
    "test_labels = momentum_labels(shape, 'g')\n",
    "test_k = [momentum_label_to_k([label, shape], 'g') for label in test_labels]\n",
    "x_axis = [point[0] for point in test_k]\n",
    "y_axis = [point[1] for point in test_k]\n",
    "plt.figure()\n",
    "plt.scatter(x_axis, y_axis)\n",
    "plt.title(\"K-Space Lattice\")\n",
    "plt.show()"
   ]
  },
  {
   "cell_type": "code",
   "execution_count": 77,
   "id": "3184ed10",
   "metadata": {
    "ExecuteTime": {
     "end_time": "2023-04-17T16:36:26.479277Z",
     "start_time": "2023-04-17T16:36:26.459198Z"
    },
    "hidden": true
   },
   "outputs": [
    {
     "name": "stdout",
     "output_type": "stream",
     "text": [
      "[((0, 0), 'a'), ((0, 0), 'b'), ((0, 1), 'a'), ((0, 1), 'b'), ((0, 2), 'a'), ((0, 2), 'b'), ((0, 3), 'a'), ((0, 3), 'b'), ((1, 0), 'a'), ((1, 0), 'b'), ((1, 1), 'a'), ((1, 1), 'b'), ((1, 2), 'a'), ((1, 2), 'b'), ((1, 3), 'a'), ((1, 3), 'b'), ((2, 0), 'a'), ((2, 0), 'b'), ((2, 1), 'a'), ((2, 1), 'b'), ((2, 2), 'a'), ((2, 2), 'b'), ((2, 3), 'a'), ((2, 3), 'b')]\n",
      "Index of ((2, 3), 'a') = 22\n"
     ]
    }
   ],
   "source": [
    "shape = (3, 4)\n",
    "point = ((2, 3), 'a')\n",
    "print(momentum_labels(shape, 'g'))\n",
    "print(f\"Index of {point} = {momentum_label_to_index([point, shape], 'g')}\")"
   ]
  },
  {
   "cell_type": "markdown",
   "id": "1a95f0da",
   "metadata": {},
   "source": [
    "# Page 2"
   ]
  },
  {
   "cell_type": "markdown",
   "id": "e3d6d964",
   "metadata": {},
   "source": [
    "## Functions"
   ]
  },
  {
   "cell_type": "code",
   "execution_count": 100,
   "id": "7591001e",
   "metadata": {
    "ExecuteTime": {
     "end_time": "2023-04-26T16:20:51.515974Z",
     "start_time": "2023-04-26T16:20:51.488828Z"
    },
    "code_folding": [
     0,
     5,
     10
    ],
    "init_cell": true
   },
   "outputs": [],
   "source": [
    "def up(i, n):\n",
    "    if i == (n-1):\n",
    "        return 0\n",
    "    return i + 1\n",
    "\n",
    "def down(i, n):\n",
    "    if i == 0:\n",
    "        return n-1\n",
    "    return i-1\n",
    "\n",
    "def flip(label):\n",
    "    if label[1] == 'a':\n",
    "        return (label[0], 'b')\n",
    "    return (label[0], 'a')\n",
    "\n",
    "def clean_matrix(mat, val=10**-15, complex_magnitude=False):\n",
    "    for i in range(mat.shape[0]):\n",
    "        for j in range(mat.shape[1]):\n",
    "            if abs(mat[i, j]) < val:\n",
    "                mat[i, j] = 0\n",
    "    if complex_magnitude:\n",
    "        return abs(mat)\n",
    "    return mat\n",
    "\n",
    "def find_neighbors(index, atom_type, n):\n",
    "    label = index_to_label(index, atom_type, shape=n)\n",
    "    N = {'h' : n, 'dh' : 2*n, 'g' : 2*np.prod(n)}[atom_type]\n",
    "    if atom_type == 'h':\n",
    "        return np.array([-1 if i in [up(index, n), down(index, n)] else 0 for i in range(n)])\n",
    "    elif atom_type == 'dh':\n",
    "        if label[1] == 'a':\n",
    "            return np.array([-0.1 if i == down(index, N) else -1 if i == up(index, N) else 0 for i in range(N)])\n",
    "        elif label[1] == 'b':\n",
    "            return np.array([-1 if i == down(index, N) else -0.1 if i == up(index, N) else 0 for i in range(N)])\n",
    "    elif atom_type == 'g':\n",
    "        pair = flip(label)\n",
    "        l0, l1 = label[0]\n",
    "        if label[1] == 'a':\n",
    "            pt1 = ((l0, down(l1, n[1])), 'b')\n",
    "            pt2 = ((up(l0, n[0]), down(l1, n[1])), 'b')\n",
    "        else:\n",
    "            pt1 = ((down(l0, n[0]), up(l1, n[1])), 'a')\n",
    "            pt2 = ((l0, up(l1, n[1])), 'a')\n",
    "        pts = [label_to_index(i, 'g', n) for i in [pair, pt1, pt2]]\n",
    "        return np.array([-1 if i in pts else 0 for i in range(N)])\n",
    "\n",
    "def hamiltonian_generator(n, atom_type):\n",
    "    N = {'h' : n, 'dh' : 2*n, 'g' : 2*np.prod(n)}[atom_type]\n",
    "    return np.asmatrix([find_neighbors(i, atom_type, n) for i in range(N)])\n",
    "\n",
    "def fourier_matrix(n, atom_type, shape=None):\n",
    "    N = {'h' : n, 'dh' : 2*n, 'g' : 2*np.prod(n)}[atom_type]\n",
    "    if atom_type == 'h':\n",
    "        r_vec = [index_to_r(i, atom_type, N) for i in np.arange(0, N)]\n",
    "        k_vec = [momentum_index_to_k(i, atom_type, N) for i in np.arange(0, N)]\n",
    "        to_return = np.outer(k_vec, r_vec)\n",
    "        return np.asmatrix((1/np.sqrt(N))*np.exp(1.j*to_return))\n",
    "    elif atom_type == 'dh':\n",
    "        r_vec = np.array([index_to_r(i, atom_type, N) for i in np.arange(0, N)])\n",
    "        k_vec = np.array([momentum_index_to_k(i, atom_type, N) for i in np.arange(0, N)])\n",
    "        to_return = np.outer(k_vec, r_vec)\n",
    "        deltas = np.indices((N, N)).sum(axis=0) % 2 * -1 + 1\n",
    "        return np.asmatrix((1/np.sqrt(n))*np.exp(1.j*to_return) * deltas)"
   ]
  },
  {
   "cell_type": "code",
   "execution_count": 122,
   "id": "bdd54063",
   "metadata": {
    "ExecuteTime": {
     "end_time": "2023-04-26T16:35:38.355841Z",
     "start_time": "2023-04-26T16:35:38.350829Z"
    }
   },
   "outputs": [
    {
     "name": "stdout",
     "output_type": "stream",
     "text": [
      "[[0.        ]\n",
      " [0.        ]\n",
      " [0.62831853]\n",
      " [0.62831853]\n",
      " [1.25663706]\n",
      " [1.25663706]\n",
      " [1.88495559]\n",
      " [1.88495559]\n",
      " [2.51327412]\n",
      " [2.51327412]]\n"
     ]
    }
   ],
   "source": [
    "N = 10\n",
    "atom_type = 'dh'\n",
    "k_vec = np.array([momentum_index_to_k(i, atom_type, N) for i in np.arange(0, N)])\n",
    "print(k_vec)"
   ]
  },
  {
   "cell_type": "code",
   "execution_count": 117,
   "id": "5740d2fc",
   "metadata": {
    "ExecuteTime": {
     "end_time": "2023-04-26T16:32:10.753302Z",
     "start_time": "2023-04-26T16:32:10.738302Z"
    }
   },
   "outputs": [
    {
     "name": "stdout",
     "output_type": "stream",
     "text": [
      "[[ 0.57735027+0.j   0.57735027+0.j   0.57735027+0.j ]\n",
      " [ 0.57735027+0.j  -0.28867513+0.5j -0.28867513-0.5j]\n",
      " [ 0.57735027+0.j  -0.28867513-0.5j -0.28867513+0.5j]]\n",
      "[[ 0.57735027+0.j   0.57735027+0.j   0.57735027+0.j ]\n",
      " [ 0.57735027+0.j  -0.28867513+0.5j -0.28867513-0.5j]\n",
      " [ 0.57735027+0.j  -0.28867513-0.5j -0.28867513+0.5j]]\n"
     ]
    }
   ],
   "source": [
    "n = 3\n",
    "atom_type = 'h'\n",
    "F = fourier_matrix(n, atom_type)\n",
    "print(F)\n",
    "\n",
    "atom_type = 'dh'\n",
    "F = fourier_matrix(n, atom_type)[::2, ::2]\n",
    "print(F)"
   ]
  },
  {
   "cell_type": "code",
   "execution_count": 126,
   "id": "4138d371",
   "metadata": {
    "ExecuteTime": {
     "end_time": "2023-04-26T16:40:06.907540Z",
     "start_time": "2023-04-26T16:40:06.772452Z"
    }
   },
   "outputs": [
    {
     "data": {
      "text/plain": [
       "<Figure size 640x480 with 0 Axes>"
      ]
     },
     "metadata": {},
     "output_type": "display_data"
    },
    {
     "data": {
      "image/png": "[encoded data removed]",
      "text/plain": [
       "<Figure size 480x480 with 1 Axes>"
      ]
     },
     "metadata": {},
     "output_type": "display_data"
    },
    {
     "name": "stdout",
     "output_type": "stream",
     "text": [
      "[[0.  1.1]\n",
      " [1.1 0. ]]\n",
      "[[0.         1.03527938]\n",
      " [1.03527938 0.        ]]\n",
      "[[0.        0.9209759]\n",
      " [0.9209759 0.       ]]\n",
      "[[0.        0.9209759]\n",
      " [0.9209759 0.       ]]\n",
      "[[0.         1.03527938]\n",
      " [1.03527938 0.        ]]\n"
     ]
    }
   ],
   "source": [
    "n = 5\n",
    "atom_type = 'dh'\n",
    "F = fourier_matrix(n, atom_type)\n",
    "Hammy = hamiltonian_generator(n, atom_type)\n",
    "H_k = np.abs(clean_matrix(F@Hammy@F.H))\n",
    "plt.figure()\n",
    "plt.matshow(H_k)\n",
    "plt.show()\n",
    "Es = []\n",
    "for i in range(int(len(H_k)/2)):\n",
    "    i1, i2 = 2*i, 2*i + 2\n",
    "    block = H_k[i1:i2,i1:i2]\n",
    "    print(block)\n",
    "    eigs, vecs = np.linalg.eigh(block)\n",
    "    Es.append(eigs)\n",
    "\n",
    "# plt.figure()\n",
    "# plt.matshow(H_k.H)\n",
    "# plt.show()"
   ]
  },
  {
   "cell_type": "code",
   "execution_count": 11,
   "id": "992b6650",
   "metadata": {
    "ExecuteTime": {
     "end_time": "2023-04-24T15:38:50.121709Z",
     "start_time": "2023-04-24T15:38:50.103705Z"
    }
   },
   "outputs": [
    {
     "name": "stdout",
     "output_type": "stream",
     "text": [
      "[[ 0 -1  0  0  0  0 -1]\n",
      " [-1  0 -1  0  0  0  0]\n",
      " [ 0 -1  0 -1  0  0  0]\n",
      " [ 0  0 -1  0 -1  0  0]\n",
      " [ 0  0  0 -1  0 -1  0]\n",
      " [ 0  0  0  0 -1  0 -1]\n",
      " [-1  0  0  0  0 -1  0]]\n",
      "[[ 0.  -1.   0.   0.   0.  -0.1]\n",
      " [-1.   0.  -0.1  0.   0.   0. ]\n",
      " [ 0.  -0.1  0.  -1.   0.   0. ]\n",
      " [ 0.   0.  -1.   0.  -0.1  0. ]\n",
      " [ 0.   0.   0.  -0.1  0.  -1. ]\n",
      " [-0.1  0.   0.   0.  -1.   0. ]]\n",
      "[[ 0 -1  0 -1  0  0  0 -1]\n",
      " [-1  0 -1  0  0  0 -1  0]\n",
      " [ 0 -1  0 -1  0 -1  0  0]\n",
      " [-1  0 -1  0 -1  0  0  0]\n",
      " [ 0  0  0 -1  0 -1  0 -1]\n",
      " [ 0  0 -1  0 -1  0 -1  0]\n",
      " [ 0 -1  0  0  0 -1  0 -1]\n",
      " [-1  0  0  0 -1  0 -1  0]]\n"
     ]
    }
   ],
   "source": [
    "print(hamiltonian_generator(7, 'h'))\n",
    "print(hamiltonian_generator(3, 'dh'))\n",
    "print(hamiltonian_generator((2, 2), 'g'))"
   ]
  },
  {
   "cell_type": "markdown",
   "id": "85e8781a",
   "metadata": {},
   "source": [
    "## Testing"
   ]
  },
  {
   "cell_type": "code",
   "execution_count": 75,
   "id": "d2c04cef",
   "metadata": {
    "ExecuteTime": {
     "end_time": "2023-04-19T17:17:42.492291Z",
     "start_time": "2023-04-19T17:17:42.476287Z"
    }
   },
   "outputs": [
    {
     "data": {
      "text/plain": [
       "12"
      ]
     },
     "execution_count": 75,
     "metadata": {},
     "output_type": "execute_result"
    }
   ],
   "source": []
  },
  {
   "cell_type": "markdown",
   "id": "717ef356",
   "metadata": {},
   "source": [
    "## Grading"
   ]
  },
  {
   "cell_type": "code",
   "execution_count": null,
   "id": "6a1d17ce",
   "metadata": {},
   "outputs": [],
   "source": []
  }
 ],
 "metadata": {
  "celltoolbar": "Initialization Cell",
  "kernelspec": {
   "display_name": "Python 3 (ipykernel)",
   "language": "python",
   "name": "python3"
  },
  "language_info": {
   "codemirror_mode": {
    "name": "ipython",
    "version": 3
   },
   "file_extension": ".py",
   "mimetype": "text/x-python",
   "name": "python",
   "nbconvert_exporter": "python",
   "pygments_lexer": "ipython3",
   "version": "3.9.13"
  },
  "varInspector": {
   "cols": {
    "lenName": 16,
    "lenType": 16,
    "lenVar": 40
   },
   "kernels_config": {
    "python": {
     "delete_cmd_postfix": "",
     "delete_cmd_prefix": "del ",
     "library": "var_list.py",
     "varRefreshCmd": "print(var_dic_list())"
    },
    "r": {
     "delete_cmd_postfix": ") ",
     "delete_cmd_prefix": "rm(",
     "library": "var_list.r",
     "varRefreshCmd": "cat(var_dic_list()) "
    }
   },
   "types_to_exclude": [
    "module",
    "function",
    "builtin_function_or_method",
    "instance",
    "_Feature"
   ],
   "window_display": false
  }
 },
 "nbformat": 4,
 "nbformat_minor": 5
}
