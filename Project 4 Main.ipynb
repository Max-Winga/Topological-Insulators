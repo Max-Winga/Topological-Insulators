{
 "cells": [
  {
   "cell_type": "markdown",
   "id": "7faa431a",
   "metadata": {},
   "source": [
    "# Imports"
   ]
  },
  {
   "cell_type": "code",
   "execution_count": 1,
   "id": "0d1d331d",
   "metadata": {
    "ExecuteTime": {
     "end_time": "2023-04-12T15:47:48.130446Z",
     "start_time": "2023-04-12T15:47:47.326436Z"
    }
   },
   "outputs": [],
   "source": [
    "import numpy as np\n",
    "import math as m\n",
    "import time as t\n",
    "import pickle\n",
    "import pylab as plt"
   ]
  },
  {
   "cell_type": "markdown",
   "id": "0f3c2691",
   "metadata": {},
   "source": [
    "# Page 1"
   ]
  },
  {
   "cell_type": "code",
   "execution_count": 28,
   "id": "8bd0c9f9",
   "metadata": {
    "ExecuteTime": {
     "end_time": "2023-04-12T16:19:16.948362Z",
     "start_time": "2023-04-12T16:19:16.924339Z"
    }
   },
   "outputs": [],
   "source": [
    "def labels(n, atom_type):\n",
    "    to_return = []\n",
    "    if atom_type == 'h':\n",
    "        for i in range(n):\n",
    "            to_return = to_return + [(i, 'a')]\n",
    "        return to_return\n",
    "    elif atom_type == 'dh':\n",
    "        for i in range(n):\n",
    "            to_return = to_return + [(i, 'a'), (i, 'b')]\n",
    "        return to_return\n",
    "    else:\n",
    "        print(\"Incompatible Atom Type\")\n",
    "    \n",
    "def label_to_r(label, atom_type):\n",
    "    if atom_type == 'h':\n",
    "        return label[0]\n",
    "    elif atom_type == 'dh':\n",
    "        if label[1] == 'a':\n",
    "            return 2*label[0]\n",
    "        return 2*label[0] + 0.8\n",
    "    else:\n",
    "        print(\"Incompatible Atom Type\")\n",
    "\n",
    "def label_to_index(label, atom_type):\n",
    "    if atom_type == 'h':\n",
    "        return label[0]\n",
    "    elif atom_type == 'dh':\n",
    "        if label[1] == 'a':\n",
    "            return 2*label[0]\n",
    "        return 2*label[0] + 1\n",
    "\n",
    "def index_to_h_label(i, atom_type):\n",
    "    if atom_type == 'h':\n",
    "        return (i, 'a')\n",
    "    elif atom_type == 'dh':\n",
    "        if i % 2 == 0:\n",
    "            return (int(i/2), 'a')\n",
    "        return (int(i/2), 'b')"
   ]
  },
  {
   "cell_type": "code",
   "execution_count": null,
   "id": "64f18891",
   "metadata": {},
   "outputs": [],
   "source": []
  }
 ],
 "metadata": {
  "kernelspec": {
   "display_name": "Python 3 (ipykernel)",
   "language": "python",
   "name": "python3"
  },
  "language_info": {
   "codemirror_mode": {
    "name": "ipython",
    "version": 3
   },
   "file_extension": ".py",
   "mimetype": "text/x-python",
   "name": "python",
   "nbconvert_exporter": "python",
   "pygments_lexer": "ipython3",
   "version": "3.9.13"
  },
  "varInspector": {
   "cols": {
    "lenName": 16,
    "lenType": 16,
    "lenVar": 40
   },
   "kernels_config": {
    "python": {
     "delete_cmd_postfix": "",
     "delete_cmd_prefix": "del ",
     "library": "var_list.py",
     "varRefreshCmd": "print(var_dic_list())"
    },
    "r": {
     "delete_cmd_postfix": ") ",
     "delete_cmd_prefix": "rm(",
     "library": "var_list.r",
     "varRefreshCmd": "cat(var_dic_list()) "
    }
   },
   "types_to_exclude": [
    "module",
    "function",
    "builtin_function_or_method",
    "instance",
    "_Feature"
   ],
   "window_display": false
  }
 },
 "nbformat": 4,
 "nbformat_minor": 5
}
